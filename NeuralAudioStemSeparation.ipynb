{
  "nbformat": 4,
  "nbformat_minor": 0,
  "metadata": {
    "colab": {
      "name": "NeuralAudioStemSeparation.ipynb",
      "provenance": [],
      "collapsed_sections": [],
      "mount_file_id": "1zQ__8g5PrzAglBrLzJTwN_lfmHDqxhIr",
      "authorship_tag": "ABX9TyPYx7nx6zSFbHabLlOLmaKc",
      "include_colab_link": true
    },
    "kernelspec": {
      "name": "python3",
      "display_name": "Python 3"
    }
  },
  "cells": [
    {
      "cell_type": "markdown",
      "metadata": {
        "id": "view-in-github",
        "colab_type": "text"
      },
      "source": [
        "<a href=\"https://colab.research.google.com/github/olaviinha/NeuralAudioStemSeparation/blob/master/NeuralAudioStemSeparation.ipynb\" target=\"_parent\"><img src=\"https://colab.research.google.com/assets/colab-badge.svg\" alt=\"Open In Colab\"/></a>"
      ]
    },
    {
      "cell_type": "markdown",
      "metadata": {
        "id": "a5yFVoov3OG0"
      },
      "source": [
        "# Neural Audio Stem Separation\n",
        "\n",
        "This is an extension for [Deezer Spleeter](https://github.com/deezer/spleeter) to be run in Google Colab, using Google Drive as data storage.\n",
        "\n",
        "`input` value may be\n",
        "1.   Path to an individual audio file located in your Google Drive.\n",
        "2.   Path to a directory in your Google Drive containing multiple audio files. Each audio file found in the directory will be individually processed.\n",
        "3.   Single YouTube URL\n",
        "4.   Multiple YouTube URLs separated by spaces. Each youtube video will be individually processed.\n",
        "\n",
        "Input will be separated to 4 stems: vocals, drums, bass and other. Stems will be saved as WAV files to your Google Drive. Enter `output_dir` relative to your Google Drive root."
      ]
    },
    {
      "cell_type": "code",
      "metadata": {
        "id": "hoOtlvKx3NY_",
        "cellView": "form"
      },
      "source": [
        "#@title Setup\n",
        "#@markdown This cell needs to be run only once. It will mount your Google Drive and setup prerequisites.\n",
        "\n",
        "import os\n",
        "from google.colab import drive, output\n",
        "drive.mount('/content/drive')\n",
        "drive_root = '/content/drive/MyDrive/'\n",
        "\n",
        "# inhagcutils\n",
        "!pip -q install import-ipynb\n",
        "!curl -s -O https://raw.githubusercontent.com/olaviinha/inhagcutils/master/inhagcutils.ipynb\n",
        "import import_ipynb\n",
        "from inhagcutils import *\n",
        "!gsutil -q -m cp -R gs://neural-research/olaviinha/spleeter-configs/custom-4stems-22kHz-z.json /content/cfg.json\n",
        "\n",
        "#@title Install\n",
        "!apt -q install ffmpeg\n",
        "!pip -q install spleeter\n",
        "\n",
        "output.clear()\n",
        "print('Using config gs://neural-research/olaviinha/spleeter-configs/custom-4stems-22kHz-z.json')\n",
        "op(c.ok, 'Setup finished.')\n"
      ],
      "execution_count": null,
      "outputs": []
    },
    {
      "cell_type": "code",
      "metadata": {
        "id": "sbxOfF0t3RYh",
        "cellView": "form"
      },
      "source": [
        "#@title Separate\n",
        "\n",
        "input = \"https://www.youtube.com/watch?v=H_qDHs_-Hyw\" #@param {type:\"string\"}\n",
        "output_dir = \"temp\" #@param {type:\"string\"}\n",
        "\n",
        "#----------------------------------------------------------------------------#\n",
        "\n",
        "import os\n",
        "from os.path import isfile, join\n",
        "from glob import glob\n",
        "\n",
        "input_type = check_input_type(input)\n",
        "tmp_dir = '/content/tmp/'\n",
        "seps_dir = fix_path(drive_root+output_dir)\n",
        "#seps_dir = '/content/tmp/seps'\n",
        "\n",
        "if not os.path.isdir(tmp_dir):\n",
        "  create_dirs([tmp_dir])\n",
        "# if not os.path.isdir(output_dir):\n",
        "#   create_dirs([seps_dir])\n",
        "\n",
        "if output_dir == '' or output_dir == 'same':\n",
        "  output_dir = fix_path(drive_root+path_dir(input))\n",
        "else:\n",
        "  output_dir = fix_path(drive_root+output_dir)\n",
        "  if not os.path.isdir(output_dir):\n",
        "    create_dirs([output_dir])\n",
        "\n",
        "if input_type == 'unknown':\n",
        "  input = drive_root+input\n",
        "  input_type = check_input_type(input)\n",
        "  if input_type=='dir':\n",
        "    input = fix_path(input)\n",
        "\n",
        "if input_type == 'youtube':\n",
        "  !pip -q install youtube-dl\n",
        "  !youtube-dl --restrict-filenames -x --no-continue --audio-format wav -o \"{tmp_dir}%(title)s.%(ext)s\" {input}\n",
        "\n",
        "from spleeter.separator import Separator\n",
        "separator = Separator('/content/cfg.json')\n",
        "if input_type == \"dir\" or input_type == \"youtube\":\n",
        "  if input_type == \"dir\":\n",
        "    target = input\n",
        "  if input_type == \"youtube\":\n",
        "    target = dir_tmp\n",
        "  file_list = list_audio(target)\n",
        "  for audiofile in file_list:\n",
        "    op(c.title, '\\nSeparate '+audiofile+' to '+seps_dir+basename(input))\n",
        "    separator.separate_to_file(audiofile, seps_dir)\n",
        "    #!spleeter separate -i \"{audiofile}\" -o \"{output_dir}\" -p /content/cfg.json\n",
        "    op(c.ok, 'FIN.', 'Files saved under directory '+output_dir+basename(audiofile)+'/')\n",
        "elif input_type == \"file\":\n",
        "  separator.separate_to_file(input, seps_dir)\n",
        "  #!spleeter separate -i \"{input}\" -o \"{output_dir}\" -p /content/cfg.json\n",
        "  op(c.ok, 'FIN.', 'Files saved under directory '+output_dir+basename(input)+'/')\n",
        "else:\n",
        "  print(\"We're not sure what you want to separate. Please check the input field.\")"
      ],
      "execution_count": null,
      "outputs": []
    }
  ]
}