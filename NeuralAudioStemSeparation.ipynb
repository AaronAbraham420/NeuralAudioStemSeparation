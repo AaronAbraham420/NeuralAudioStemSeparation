{
  "nbformat": 4,
  "nbformat_minor": 0,
  "metadata": {
    "colab": {
      "name": "NeuralAudioStemSeparation.ipynb",
      "provenance": [],
      "collapsed_sections": [
        "n9QAT-0rGnhF"
      ],
      "toc_visible": true,
      "include_colab_link": true
    },
    "kernelspec": {
      "name": "python3",
      "display_name": "Python 3"
    },
    "accelerator": "GPU"
  },
  "cells": [
    {
      "cell_type": "markdown",
      "metadata": {
        "id": "view-in-github",
        "colab_type": "text"
      },
      "source": [
        "<a href=\"https://colab.research.google.com/github/olaviinha/NeuralAudioStemSeparation/blob/master/NeuralAudioStemSeparation.ipynb\" target=\"_parent\"><img src=\"https://colab.research.google.com/assets/colab-badge.svg\" alt=\"Open In Colab\"/></a>"
      ]
    },
    {
      "cell_type": "markdown",
      "metadata": {
        "id": "HzlUkuZc4aKG",
        "colab_type": "text"
      },
      "source": [
        "# Neural Audio Stem Separation (22kHz sample rate)\n",
        "\n",
        "This is an extension for [Deezer Spleeter](https://github.com/deezer/spleeter) to be run in Google Colab, using Google Drive as data storage.\n",
        "\n",
        "`input` value may be\n",
        "1.   Path to an individual audio file located in your Google Drive.\n",
        "2.   Path to a directory in your Google Drive, containing multiple audio files. Each audio file found in the directory will be individually processed.\n",
        "3.   Single YouTube URL\n",
        "4.   Multiple YouTube URLs separated by spaces. Each youtube video will be individually processed.\n",
        "\n",
        "Input will be separated to 4 stems: vocals, drums, bass and other. Stems will be saved as WAV files to your Google Drive (`output_dir`)."
      ]
    },
    {
      "cell_type": "code",
      "metadata": {
        "id": "qNoJKk3k48kg",
        "colab_type": "code",
        "colab": {},
        "cellView": "form"
      },
      "source": [
        "#@title Mount Drive\n",
        "from google.colab import drive\n",
        "drive.mount('/content/drive')"
      ],
      "execution_count": null,
      "outputs": []
    },
    {
      "cell_type": "code",
      "metadata": {
        "id": "zds0mBLDVd6v",
        "colab_type": "code",
        "cellView": "form",
        "colab": {}
      },
      "source": [
        "#@title Settings\n",
        "\n",
        "input = \"ai/spleet/input/test.mp3\" #@param {type:\"string\"}\n",
        "output_dir = \"ai/spleet/output\" #@param {type:\"string\"}\n",
        "\n",
        "#----------------------------------------------------------------------------#\n",
        "\n",
        "import os\n",
        "from os.path import isfile, join\n",
        "from glob import glob\n",
        "\n",
        "timestamp = datetime.today().strftime('%Y-%m-%d')\n",
        "\n",
        "def stripPath(path, *args):\n",
        "  if args:\n",
        "    return path.strip(\"/\")+\"/\"\n",
        "  else:\n",
        "    return path.strip(\"/\")\n",
        "\n",
        "def listAudio(dir):\n",
        "  audiofiles = []\n",
        "  for ext in ('*.wav', '*.aiff', '*.flac', '*.mp3', '*.ogg'):\n",
        "    audiofiles.extend(glob(join(dir, ext)))\n",
        "  return audiofiles\n",
        "\n",
        "def basename(path):\n",
        "  filename = os.path.basename(input).strip().replace(\" \", \"_\")\n",
        "  filebase = os.path.splitext(filename)[0]\n",
        "  return filebase\n",
        "\n",
        "tube_ind = \"http\"\n",
        "tmp_dir = \"/content/tmp/\"\n",
        "if not os.path.isdir(tmp_dir):\n",
        "  !mkdir {tmp_dir}\n",
        "drive_root = \"/content/drive/My Drive/\"\n",
        "if tube_ind not in input:\n",
        "  input = drive_root+stripPath(input)\n",
        "output = drive_root+stripPath(output_dir, True)"
      ],
      "execution_count": null,
      "outputs": []
    },
    {
      "cell_type": "markdown",
      "metadata": {
        "id": "n9QAT-0rGnhF",
        "colab_type": "text"
      },
      "source": [
        "### Install"
      ]
    },
    {
      "cell_type": "code",
      "metadata": {
        "id": "daGrkgm2GnGD",
        "colab_type": "code",
        "colab": {}
      },
      "source": [
        "!pip install spleeter\n",
        "if tube_ind in input:\n",
        "  !pip install youtube-dl"
      ],
      "execution_count": null,
      "outputs": []
    },
    {
      "cell_type": "code",
      "metadata": {
        "id": "EKRmzgKXSqwm",
        "colab_type": "code",
        "colab": {}
      },
      "source": [
        "if tube_ind in input:\n",
        "  !youtube-dl --restrict-filenames -x --no-continue --audio-format wav -o \"{tmp_dir}%(title)s.%(ext)s\" {input}\n",
        "  tubeFiles = glob(tmp_dir+\"/*.wav\")"
      ],
      "execution_count": null,
      "outputs": []
    },
    {
      "cell_type": "markdown",
      "metadata": {
        "id": "8yeFh5m0GpQM",
        "colab_type": "text"
      },
      "source": [
        "## Separate"
      ]
    },
    {
      "cell_type": "code",
      "metadata": {
        "colab_type": "code",
        "id": "dGL-k5xxoKbu",
        "colab": {}
      },
      "source": [
        "!gsutil -q -m cp -R gs://neural-research/olaviinha/splt-22khz-4st-a.json /content/cfg.json\n",
        "if os.path.isdir(input) or tube_ind in input:\n",
        "  if tube_ind in input:\n",
        "    fileList = tubeFiles\n",
        "  else:\n",
        "    fileList = listAUdio(input)\n",
        "  for file in fileList:\n",
        "    #filename = basename(file)\n",
        "    #file_output = output+filename\n",
        "    #!mkdir file_output\n",
        "    !spleeter separate -i \"{file}\" -o \"{output}\" -p /content/cfg.json\n",
        "elif os.path.isfile(input):\n",
        "  !spleeter separate -i \"{input}\" -o \"{output}\" -p /content/cfg.json\n",
        "else:\n",
        "  print('Unable to find input file/directory. Check input_dir')"
      ],
      "execution_count": null,
      "outputs": []
    }
  ]
}