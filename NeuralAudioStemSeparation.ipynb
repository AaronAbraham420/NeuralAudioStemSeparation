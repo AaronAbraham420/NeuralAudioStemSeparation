{
  "nbformat": 4,
  "nbformat_minor": 0,
  "metadata": {
    "colab": {
      "name": "NeuralAudioStemSeparation.ipynb",
      "provenance": [],
      "collapsed_sections": [],
      "toc_visible": true,
      "mount_file_id": "1zQ__8g5PrzAglBrLzJTwN_lfmHDqxhIr",
      "authorship_tag": "ABX9TyMqwLM2jjWtF7RL5aLveyTA",
      "include_colab_link": true
    },
    "kernelspec": {
      "name": "python3",
      "display_name": "Python 3"
    }
  },
  "cells": [
    {
      "cell_type": "markdown",
      "metadata": {
        "id": "view-in-github",
        "colab_type": "text"
      },
      "source": [
        "<a href=\"https://colab.research.google.com/github/olaviinha/NeuralAudioStemSeparation/blob/master/NeuralAudioStemSeparation.ipynb\" target=\"_parent\"><img src=\"https://colab.research.google.com/assets/colab-badge.svg\" alt=\"Open In Colab\"/></a>"
      ]
    },
    {
      "cell_type": "markdown",
      "metadata": {
        "id": "a5yFVoov3OG0"
      },
      "source": [
        "# Neural Audio Stem Separation (22kHz sample rate)\n",
        "\n",
        "This is an extension for [Deezer Spleeter](https://github.com/deezer/spleeter) to be run in Google Colab, using Google Drive as data storage.\n",
        "\n",
        "`input` value may be\n",
        "1.   Path to an individual audio file located in your Google Drive.\n",
        "2.   Path to a directory in your Google Drive containing multiple audio files. Each audio file found in the directory will be individually processed.\n",
        "3.   Single YouTube URL\n",
        "4.   Multiple YouTube URLs separated by spaces. Each youtube video will be individually processed.\n",
        "\n",
        "Input will be separated to 4 stems: vocals, drums, bass and other. Stems will be saved as WAV files to your Google Drive (`output_dir`)."
      ]
    },
    {
      "cell_type": "code",
      "metadata": {
        "id": "hoOtlvKx3NY_",
        "cellView": "form"
      },
      "source": [
        "#@title Setup\n",
        "#@markdown This cell needs to be run only once. It will mount your Google Drive and setup prerequisities.\n",
        "\n",
        "import os\n",
        "from google.colab import drive, output\n",
        "drive.mount('/content/drive')\n",
        "drive_root = '/content/drive/My Drive/'\n",
        "\n",
        "# inhagcutils\n",
        "!pip -q install import-ipynb\n",
        "!curl -s -O https://raw.githubusercontent.com/olaviinha/inhagcutils/master/inhagcutils.ipynb\n",
        "import import_ipynb\n",
        "from inhagcutils import *\n",
        "\n",
        "!gsutil -q -m cp -R gs://neural-research/olaviinha/spleeter-configs/custom-4stems-22kHz-z.json /content/cfg.json\n",
        "print('Fetched gs://neural-research/olaviinha/spleeter-configs/custom-4stems-22kHz-z.json')\n",
        "\n",
        "#@title Install\n",
        "!apt -q install ffmpeg\n",
        "!pip -q install spleeter\n",
        "\n",
        "output.clear()\n",
        "op(c.ok, 'Setup finished.')\n"
      ],
      "execution_count": null,
      "outputs": []
    },
    {
      "cell_type": "code",
      "metadata": {
        "id": "sbxOfF0t3RYh",
        "cellView": "form"
      },
      "source": [
        "#@title Separate\n",
        "\n",
        "input = \"https://www.youtube.com/watch?v=tH2w6Oxx0kQ\" #@param {type:\"string\"}\n",
        "output_dir = \"ai/output/spleeter\" #@param {type:\"string\"}\n",
        "#previews = False #@param {type:\"boolean\"}\n",
        "\n",
        "#----------------------------------------------------------------------------#\n",
        "\n",
        "import os\n",
        "from os.path import isfile, join\n",
        "from glob import glob\n",
        "\n",
        "input_type = check_input_type(input)\n",
        "output_dir = drive_root+fix_path(output_dir)\n",
        "tmp_dir = \"/content/tmp/\"\n",
        "\n",
        "if not os.path.isdir(tmp_dir):\n",
        "  !mkdir {tmp_dir}\n",
        "if not os.path.isdir(output_dir):\n",
        "  !mkdir \"{output_dir}\"\n",
        "\n",
        "if input_type == 'unknown':\n",
        "  input = drive_root+fix_path(input)\n",
        "  input_type = check_input_type(input)\n",
        "\n",
        "if input_type == 'youtube':\n",
        "  !pip -q install youtube-dl\n",
        "  !youtube-dl --restrict-filenames -x --no-continue --audio-format wav -o \"{tmp_dir}%(title)s.%(ext)s\" {input}\n",
        "\n",
        "\n",
        "from spleeter.separator import Separator\n",
        "from spleeter.audio.adapter import get_default_audio_adapter\n",
        "separator = Separator('/content/cfg.json')\n",
        "if input_type == \"dir\" or input_type == \"youtube\":\n",
        "  if input_type == \"dir\":\n",
        "    target = input\n",
        "  if input_type == \"youtube\":\n",
        "    target = dir_tmp\n",
        "  file_list = list_audio(target)\n",
        "  for audiofile in file_list:\n",
        "    separator.separate_to_file(audiofile, output_dir)\n",
        "    #!spleeter separate -i \"{audiofile}\" -o \"{output_dir}\" -p /content/cfg.json\n",
        "    print('Files saved under directory', basename(audiofile)+'/')\n",
        "  op(c.ok, 'FIN.')\n",
        "elif input_type == \"file\":\n",
        "  separator.separate_to_file(input, output_dir)\n",
        "  #!spleeter separate -i \"{input}\" -o \"{output_dir}\" -p /content/cfg.json\n",
        "  op(c.ok, 'FIN.', 'Files have been saved under directory '+basename(input)+'/')\n",
        "else:\n",
        "  print(\"We're not sure what you want to separate. Please check the input field.\")"
      ],
      "execution_count": null,
      "outputs": []
    }
  ]
}